{
 "cells": [
  {
   "cell_type": "code",
   "execution_count": 1,
   "metadata": {},
   "outputs": [
    {
     "data": {
      "text/plain": [
       "{\n",
       "  deserialize : function: 0x404ceba0\n",
       "  cat : function: 0x40e4ff50\n",
       "  cdata : function: 0x40cafc90\n",
       "  newmetatable : function: 0x404c15f0\n",
       "  atan2 : function: 0x40c9f2e8\n",
       "  bhistc : function: 0x40e50310\n",
       "  bitxor : function: 0x40c9ccf8\n",
       "  zero : function: 0x40c9ca00\n",
       "  logNormal : function: 0x40c9f428\n",
       "  sigmoid : function: 0x40c9f248\n",
       "  getnumcores : function: 0x404c18b8\n",
       "  cross : function: 0x40c9d298\n",
       "  deserializeFromStorage : function: 0x41ad7b18\n",
       "  inverse : function: 0x40c9f568\n",
       "  le : function: 0x40e50130\n",
       "  isTypeOf : function: 0x40e4bb30\n",
       "  min : function: 0x40c9d1d0\n",
       "  prod : function: 0x40c9d1a8\n",
       "  ger : function: 0x40c9d018\n",
       "  eq : function: 0x40e50180\n",
       "  getnumthreads : function: 0x404c1868\n",
       "  ByteTensor : table: 0x40e4e528\n",
       "  Timer : table: 0x40e50918\n",
       "  addmv : function: 0x40c9d040\n",
       "  lerp : function: 0x40c9f2c0\n",
       "  match : function: 0x40c9cd70\n",
       "  Allocator : table: 0x40e4be28\n",
       "  xcorr2 : function: 0x40e50068\n",
       "  neg : function: 0x40c9f270\n",
       "  DiskFile : table: 0x40e52b20\n",
       "  pstrf : function: 0x40c9f608\n",
       "  bernoulli : function: 0x40e4ffc8\n",
       "  _heaptracking : true\n",
       "  mv : function: 0x40c9cfa0\n",
       "  MemoryFile : table: 0x40e561d8\n",
       "  cremainder : function: 0x40c9ce88\n",
       "  Storage : table: 0x40e4ca28\n",
       "  ge : function: 0x40e50158\n",
       "  kthvalue : function: 0x40c9d3b0\n",
       "  geometric : function: 0x40e4ffa0\n",
       "  isTensor : function: 0x409747c0\n",
       "  serialize : function: 0x41ad7ad8\n",
       "  sin : function: 0x40c9f040\n",
       "  topk : function: 0x40c9d388\n",
       "  trace : function: 0x40c9d270\n",
       "  ShortStorage : table: 0x40e49128\n",
       "  Tester : table: 0x4010da18\n",
       "  fill : function: 0x40c9ca28\n",
       "  data : function: 0x40cafc50\n",
       "  linspace : function: 0x40e503b0\n",
       "  CmdLine : table: 0x404c1f58\n",
       "  sum : function: 0x40c9d180\n",
       "  DoubleTensor : table: 0x40e555f0\n",
       "  loadobj : function: 0x41ad7ab8\n",
       "  orgqr : function: 0x40c9f680\n",
       "  saveobj : function: 0x41ad7a98\n",
       "  cmul : function: 0x40c9cd98\n",
       "  test : function: 0x40974758\n",
       "  load : function: 0x41ad7ab8\n",
       "  reshape : function: 0x40c9caa0\n",
       "  save : function: 0x41ad7a98\n",
       "  getconstructortable : function: 0x404c1908\n",
       "  version : function: 0x404c17f0\n",
       "  fmod : function: 0x40c9cc58\n",
       "  permute : function: 0x404da5a8\n",
       "  mean : function: 0x40e50270\n",
       "  totable : function: 0x409747a0\n",
       "  chunk : function: 0x404d3fc0\n",
       "  cmin : function: 0x40c9d220\n",
       "  addcdiv : function: 0x40c9cf78\n",
       "  mm : function: 0x40c9cfc8\n",
       "  split : function: 0x404d3f70\n",
       "  xcorr3 : function: 0x40e500b8\n",
       " "
      ]
     },
     "execution_count": 1,
     "metadata": {},
     "output_type": "execute_result"
    },
    {
     "data": {
      "text/plain": [
       " ShortTensor : table: 0x40e50de8\n",
       "  lt : function: 0x40e500e0\n",
       "  triu : function: 0x40e4ff28\n",
       "  repeatTensor : function: 0x41adce30\n",
       "  rshift : function: 0x40c9cc30\n",
       "  viewAs : function: 0x41ad1380\n",
       "  eye : function: 0x40c9d2e8\n",
       "  view : function: 0x41ae0b68\n",
       "  mul : function: 0x40c9cbb8\n",
       "  sqrt : function: 0x40c9f130\n",
       "  LongTensor : table: 0x40e53200\n",
       "  expandAs : function: 0x41c68e70\n",
       "  expand : function: 0x404c7300\n",
       "  isequal : function: 0x404c1978\n",
       "  floor : function: 0x40c9f1a8\n",
       "  setRNGState : function: 0x40ca18e8\n",
       "  lshift : function: 0x40c9cc08\n",
       "  setdefaulttensortype : function: 0x40e4b8e0\n",
       "  class : function: 0x4063c538\n",
       "  frac : function: 0x40c9f1f8\n",
       "  csub : function: 0x40c9cb90\n",
       "  gesv : function: 0x40c9f478\n",
       "  PipeFile : table: 0x40e53d80\n",
       "  LongStorage : table: 0x40e4ac50\n",
       "  packageLuaPath : function: 0x40c982e0\n",
       "  updatethreadlocals : function: 0x40e4bea0\n",
       "  Tensor : table: 0x40e555f0\n",
       "  diag : function: 0x40c9d2c0\n",
       "  pointer : function: 0x404c1818\n",
       "  getRNGState : function: 0x40ca1898\n",
       "  crshift : function: 0x40c9ce38\n",
       "  conv3 : function: 0x40e50090\n",
       "  logspace : function: 0x40e503d8\n",
       "  tril : function: 0x40e4ff00\n",
       "  initialSeed : function: 0x40ca17f8\n",
       "  bitor : function: 0x40c9ccd0\n",
       "  all : function: 0x40e501f8\n",
       "  HalfTensor : table: 0x40e56800\n",
       "  rsqrt : function: 0x40c9f220\n",
       "  log1p : function: 0x40e50428\n",
       "  scatter : function: 0x40c9caf0\n",
       "  _gen : torch.Generator\n",
       "  addbmm : function: 0x40c9d0b8\n",
       "  Generator : table: 0x40c9fa18\n",
       "  symeig : function: 0x40c9f4f0\n",
       "  remainder : function: 0x40c9cc80\n",
       "  clamp : function: 0x40c9cd48\n",
       "  ormqr : function: 0x40c9f6a8\n",
       "  geqrf : function: 0x40c9f658\n",
       "  qr : function: 0x40c9f630\n",
       "  metatype : function: 0x404c1778\n",
       "  updateerrorhandlers : function: 0x404cc988\n",
       "  potrs : function: 0x40c9f5b8\n",
       "  manualSeed : function: 0x40ca1848\n",
       "  svd : function: 0x40c9f540\n",
       "  zeros : function: 0x40c9ca50\n",
       "  median : function: 0x40e4fed8\n",
       "  cosh : function: 0x40c9f018\n",
       "  pushudata : function: 0x404c17c8\n",
       "  eig : function: 0x40c9f518\n",
       "  sinh : function: 0x40c9f090\n",
       "  File : table: 0x404ccab0\n",
       "  exponential : function: 0x40c9f450\n",
       "  FloatStorage : table: 0x40e4b020\n",
       "  seed : function: 0x40c9fa68\n",
       "  normal : function: 0x40c9f3d8\n",
       "  uniform : function: 0x40c9f3b0\n",
       "  multinomial : function: 0x40c9f388\n",
       "  randn : function: 0x40c9f360\n",
       "  conv2 : function: 0x40e50040\n",
       "  dist : function: 0x40e50388\n",
       "  rand : function: 0x40c9f338\n",
       "  mod : function: 0x40c9cd20\n",
       "  pow : function: 0x40c9f310\n",
       "  squeeze : function: 0x40e4fff0\n",
       "  cdiv : function: 0x40c9cde8\n",
       "  cinv : function: 0x40c9f298\n",
       "  gt : function: 0x40e50108\n",
       "  randperm : function: 0x40c9d338\n",
       "  include : function: 0x40e4ba18\n",
       "  trunc : function: 0x40c9f1d0\n",
       "  ceil : function: 0x40c9f180\n",
       "  nonzero : function: 0x40e501d0\n",
       "  cmax : function: 0x40c9d248\n",
       "  cbitxor : function: 0x40c9cf00\n",
       "  tanh : function: 0x40c9f108\n",
       "  any : function: 0x40e50220\n",
       "  equal : function: 0x40c9cb40\n",
       "  dot : function: 0x40c9cb18\n",
       "  range : function: 0x40c9d310\n",
       "  atan : function: 0x40c9f0e0\n",
       "  addr : function: 0x40c9d090\n",
       "  trtrs : function: 0x40c9f4c8\n",
       "  HalfStorage : table: 0x40e4d7a8\n"
      ]
     },
     "execution_count": 1,
     "metadata": {},
     "output_type": "execute_result"
    },
    {
     "data": {
      "text/plain": [
       "  tan : function: 0x40c9f0b8\n",
       "  renorm : function: 0x40e50360\n",
       "  serializeToStorage : function: 0x41ad7af8\n",
       "  bitand : function: 0x40c9cca8\n",
       "  cos : function: 0x40e50478\n",
       "  var : function: 0x40e50298\n",
       "  exp : function: 0x40e50450\n",
       "  setmetatable : function: 0x404c1678\n",
       "  cumsum : function: 0x40c9d130\n",
       "  cauchy : function: 0x40c9f400\n",
       "  ne : function: 0x40e501a8\n",
       "  cbitand : function: 0x40c9ceb0\n",
       "  log : function: 0x40e50400\n",
       "  potrf : function: 0x40c9f590\n",
       "  DoubleStorage : table: 0x40e4ca28\n",
       "  CharStorage : table: 0x404df320\n",
       "  asin : function: 0x40c9f068\n",
       "  typename : function: 0x404c1930\n",
       "  histc : function: 0x40e502e8\n",
       "  std : function: 0x40e502c0\n",
       "  div : function: 0x40c9cbe0\n",
       "  abs : function: 0x40e50248\n",
       "  type : function: 0x40e4bb10\n",
       "  sign : function: 0x40e50018\n",
       "  add : function: 0x40c9cb68\n",
       "  mode : function: 0x40e4feb0\n",
       "  toc : function: 0x404c1700\n",
       "  norm : function: 0x40e50338\n",
       "  IntTensor : table: 0x40e51ff0\n",
       "  tic : function: 0x404c1650\n",
       "  gels : function: 0x40c9f4a0\n",
       "  factory : function: 0x404c18e0\n",
       "  getdefaulttensortype : function: 0x404c15c8\n",
       "  isStorage : function: 0x409747e0\n",
       "  cpow : function: 0x40c9cdc0\n",
       "  IntStorage : table: 0x40e49ed0\n",
       "  CharTensor : table: 0x40e4f8c8\n",
       "  setnumthreads : function: 0x404c1750\n",
       "  FloatTensor : table: 0x40e54410\n",
       "  TestSuite : function: 0x40117e60\n",
       "  cumprod : function: 0x40c9d158\n",
       "  potri : function: 0x40c9f5e0\n",
       "  ByteStorage : table: 0x404de448\n",
       "  setenv : function: 0x404c19e8\n",
       "  isatty : function: 0x404c1628\n",
       "  getenv : function: 0x404c19a0\n",
       "  acos : function: 0x40c9eff0\n",
       "  clshift : function: 0x40c9ce10\n",
       "  gather : function: 0x40c9cac8\n",
       "  addcmul : function: 0x40c9cf50\n",
       "  bmm : function: 0x40c9cff0\n",
       "  addmm : function: 0x40c9d068\n",
       "  numel : function: 0x40c9d108\n",
       "  sort : function: 0x40c9d360\n",
       "  max : function: 0x40c9d1f8\n",
       "  baddbmm : function: 0x40c9d0e0\n",
       "  ones : function: 0x40c9ca78\n",
       "  round : function: 0x40c9f158\n",
       "  getmetatable : function: 0x404c16a0\n",
       "  cbitor : function: 0x40c9ced8\n",
       "  random : function: 0x40e4ff78\n",
       "  setheaptracking : function: 0x404cc960\n",
       "  cmod : function: 0x40c9cf28\n",
       "  cfmod : function: 0x40c9ce60\n",
       "}\n"
      ]
     },
     "execution_count": 1,
     "metadata": {},
     "output_type": "execute_result"
    }
   ],
   "source": [
    "require 'torch'"
   ]
  },
  {
   "cell_type": "code",
   "execution_count": null,
   "metadata": {},
   "outputs": [],
   "source": []
  },
  {
   "cell_type": "code",
   "execution_count": 8,
   "metadata": {},
   "outputs": [
    {
     "data": {
      "text/plain": [
       " 0.8841  0.4738  0.0861  0.2557  0.0082  0.0582  0.6333  0.2506  0.1695  0.0912\n",
       " 0.5049  0.3971  0.6332  0.4713  0.3264  0.2776  0.9253  0.1185  0.4333  0.6139\n",
       " 0.3345  0.3718  0.1403  0.1151  0.2549  0.7925  0.6235  0.9596  0.9413  0.3589\n",
       " 0.0051  0.7848  0.4243  0.8755  0.5142  0.4337  0.6326  0.1919  0.9160  0.3344\n",
       " 0.2062  0.1985  0.6479  0.8827  0.6032  0.6819  0.9972  0.3623  0.4542  0.3350\n",
       " 0.7707  0.3475  0.1400  0.9884  0.7918  0.2847  0.7580  0.2162  0.4080  0.7464\n",
       " 0.1138  0.7936  0.6161  0.0571  0.8191  0.1341  0.4698  0.6577  0.4730  0.1397\n",
       " 0.8592  0.0325  0.8307  0.2828  0.6979  0.5685  0.7956  0.9146  0.7971  0.5323\n",
       " 0.8093  0.4036  0.1100  0.4822  0.9421  0.9452  0.9629  0.8914  0.4981  0.8840\n",
       " 0.3617  0.7769  0.5228  0.5140  0.8539  0.1691  0.6874  0.5226  0.7817  0.5074\n",
       " 0.6060  0.9983  0.8851  0.9839  0.3444  0.7179  0.6326  0.1654  0.0459  0.5698\n",
       " 0.4229  0.3062  0.7565  0.7202  0.0623  0.0919  0.2398  0.3141  0.2792  0.1997\n",
       " 0.9095  0.6657  0.3475  0.6996  0.2764  0.4864  0.7084  0.7842  0.3932  0.0696\n",
       " 0.8659  0.0180  0.8252  0.9898  0.6743  0.0651  0.8117  0.0049  0.0716  0.4010\n",
       " 0.0277  0.1144  0.6901  0.8536  0.7829  0.0984  0.0205  0.0128  0.1301  0.4099\n",
       " 0.8026  0.5649  0.4062  0.6269  0.8777  0.0647  0.0850  0.2365  0.6149  0.9430\n",
       " 0.5308  0.9841  0.7693  0.4340  0.9247  0.1038  0.1234  0.0249  0.9538  0.8582\n",
       " 0.6023  0.2642  0.6455  0.7512  0.4588  0.9315  0.7822  0.2867  0.0373  0.5121\n",
       " 0.3716  0.5848  0.3815  0.3137  0.8911  0.9649  0.3936  0.8195  0.3910  0.9362\n",
       " 0.3058  0.0543  0.1059  0.2739  0.9771  0.5571  0.5767  0.3553  0.3621  0.1734\n",
       " 0.8675  0.5307  0.9822  0.8011  0.6816  0.5745  0.1627  0.0239  0.3501  0.8789\n",
       " 0.7472  0.8831  0.7022  0.0027  0.0704  0.3118  0.9228  0.2230  0.0471  0.9646\n",
       " 0.8646  0.4188  0.8110  0.5952  0.3393  0.5451  0.0515  0.1238  0.1207  0.7762\n",
       " 0.6944  0.0281  0.0918  0.0529  0.4986  0.5269  0.7246  0.7188  0.8222  0.2414\n",
       " 0.3452  0.6125  0.2234  0.2287  0.6724  0.0729  0.1074  0.9526  0.1234  0.6054\n",
       " 0.5206  0.8681  0.0704  0.4662  0.4255  0.6580  0.0115  0.8749  0.8348  0.1079\n",
       " 0.3641  0.4840  0.3210  0.3660  0.6320  0.6747  0.3548  0.2988  0.0969  0.1127\n",
       " 0.4062  0.9749  0.7352  0.3580  0.7400  0.9155  0.9355  0.8394  0.9065  0.9478\n",
       " 0.4786  0.8114  0.7635  0.4399  0.1058  0.4603  0.4912  0.4062  0.3903  0.0517\n",
       " 0.4484  0.7872  0.5827  0.2567  0.4407  0.8616  0.6834  0.5604  0.9854  0.8243\n",
       " 0.4561  0.1800  0.8287  0.6379  0.0983  0.5300  0.1901  0.2252  0.6165  0.4777\n",
       " 0.9617  0.0424  0.6887  0.6770  0.6699  0.6829  0.2045  0.5571  0.5030  0.3945\n",
       " 0.5068  0.5880  0.9250  0.8822  0.4791  0.1725  0.9415  0.8366  0.8759  0.7009\n",
       " 0.5197  0.0484  0.2671  0.0356  0.5128  0.0863  0.5233  0.7756  0.0438  0.2628\n",
       " 0.8143  0.8879  0.8120  0.8254  0.8025  0.2812  0.2131  0.7472  0.7005  0.1407\n",
       " 0.6422  0.9131  0.5122  0.9744  0.5475  0.5763  0.0374  0.9442  0.3593  0.8833\n",
       " 0.8446  0.4532  0.5606  0.7584  0.3500  0.5592  0.3542  0.3652  0.9473  0.9350\n",
       " 0.9175  0.5644  0.3724  0.6570  0.7566  0.5143  0.7558  0.0295  0.9390  0.1624\n",
       " 0.6778  0.6265  0.5661  0.1230  0.6488  0.0838  0.3696  0.9651  0.6657  0.3793\n",
       " 0.8054  0.8315  0.3175  0.3254  0.1906  0.8362  0.4224  0.8422  0.8093  0.0722\n",
       " 0.4931  0.7691  0.6755  0.3144  0.5692  0.9103  0.1302  0.4401  0.5696  0.3527\n",
       " 0.2455  0.1598  0.6991  0.6946  0.5422  0.6184  0.7137  0.0106  0.1105  0.8450\n",
       " 0.1358  0.8092  0.0937  0.1562  0.9994  0.8896  0.2979  0.4922  0.6824  0.9581\n",
       " 0.3945  0.2098  0.4865  0.5174  0.5632  0.7313  0.6227  0.9681  0.0477  0.8275\n",
       " 0.8537  0.9007  0.4087  0.8645  0.0525  0.7834  0.3225  0.2569  0.4950  0.9927\n",
       " 0.5965  0.3739  0.0487  0.0853  0.2150  0.9022  0.3166  0.9490  0.9439  0.6527\n",
       " 0.8155  0.1873  0.1322  0.1525  0.7521  0.6773  0.4814  0.9931  0.0679  0.4008\n",
       " 0.1706  0.5991  0.1821  0.9335  0.3198  0.4748  0.8590  0.2540  0.7491  0.5992\n",
       " 0.4454  0.6258  0.9004  0.9015  0.4019  0.8625  0.1545  0.0841  0.4188  0.3194\n",
       " 0.9190  0.6177  0.0077  0.1198  0.1471  0.8651  0.0903  0.3808  0.1161  0.1066\n",
       " 0.0607  0.9846  0.6119  0.5345  0.2785  0.0542  0.9032  0.0193  0.5140  0.5288\n",
       " 0.7817  0.8651 "
      ]
     },
     "execution_count": 8,
     "metadata": {},
     "output_type": "execute_result"
    },
    {
     "data": {
      "text/plain": [
       " 0.1195  0.1437  0.8351  0.0716  0.3522  0.0058  0.0873  0.9563\n",
       " 0.7185  0.8947  0.8860  0.9677  0.3271  0.2224  0.8613  0.5086  0.4160  0.8933\n",
       " 0.6532  0.0402  0.6719  0.4805  0.4682  0.3618  0.5944  0.6113  0.2168  0.3849\n",
       " 0.4972  0.5152  0.9435  0.2051  0.0354  0.8031  0.5905  0.8732  0.8758  0.8889\n",
       " 0.8399  0.5935  0.3234  0.9950  0.3602  0.2482  0.4442  0.1541  0.4417  0.1344\n",
       " 0.9377  0.0211  0.6897  0.0632  0.0817  0.1685  0.9971  0.0083  0.1434  0.9286\n",
       " 0.2546  0.1176  0.1962  0.3960  0.6937  0.5143  0.1646  0.4170  0.6850  0.9515\n",
       " 0.4772  0.0670  0.2580  0.6427  0.6375  0.1466  0.6675  0.4059  0.3033  0.8591\n",
       " 0.4165  0.1172  0.5910  0.2628  0.1461  0.9328  0.6635  0.1484  0.3931  0.9859\n",
       " 0.3535  0.2773  0.7489  0.6314  0.4699  0.3521  0.5097  0.2597  0.9549  0.9840\n",
       " 0.9120  0.9818  0.5029  0.3982  0.5427  0.9525  0.8290  0.1825  0.7871  0.3302\n",
       " 0.6875  0.8776  0.9585  0.2069  0.2296  0.2841  0.7914  0.0414  0.5027  0.8787\n",
       " 0.0616  0.1113  0.1418  0.9155  0.1124  0.2029  0.1801  0.9488  0.5496  0.5821\n",
       " 0.8703  0.4237  0.5858  0.6462  0.9031  0.0871  0.7890  0.8190  0.7150  0.2375\n",
       " 0.8563  0.6217  0.3405  0.5372  0.4636  0.0209  0.4205  0.9992  0.2929  0.1269\n",
       " 0.0474  0.3350  0.9064  0.3868  0.3594  0.9774  0.6995  0.2988  0.8521  0.6507\n",
       " 0.2703  0.5564  0.2713  0.2310  0.6933  0.8857  0.7222  0.8609  0.4771  0.5135\n",
       " 0.3820  0.8784  0.2191  0.5982  0.6723  0.8444  0.0953  0.5596  0.7797  0.0360\n",
       " 0.6652  0.0616  0.2557  0.7295  0.2819  0.7880  0.1821  0.4428  0.1963  0.6766\n",
       " 0.2722  0.6430  0.8084  0.8268  0.1020  0.5296  0.6606  0.7233  0.8866  0.7764\n",
       " 0.5404  0.4852  0.9895  0.0778  0.2100  0.3070  0.2246  0.3448  0.3569  0.7460\n",
       " 0.5390  0.5931  0.0568  0.2775  0.2735  0.3523  0.9442  0.6894  0.6183  0.1629\n",
       " 0.0640  0.4644  0.4200  0.7132  0.4152  0.2327  0.6542  0.4021  0.5829  0.3425\n",
       " 0.4263  0.4576  0.1149  0.3741  0.1533  0.9461  0.3122  0.6073  0.7149  0.6568\n",
       " 0.4602  0.4562  0.6722  0.8438  0.8297  0.7944  0.6946  0.8636  0.2011  0.2833\n",
       " 0.8933  0.1283  0.2682  0.8872  0.1287  0.0514  0.7653  0.1333  0.4533  0.8680\n",
       " 0.4888  0.2720  0.0063  0.0276  0.2517  0.5253  0.0762  0.0229  0.5837  0.3338\n",
       " 0.5033  0.3937  0.6648  0.1460  0.5209  0.3512  0.0523  0.5060  0.0386  0.2115\n",
       " 0.9571  0.1807  0.9881  0.9547  0.7535  0.9501  0.7007  0.3568  0.7054  0.3661\n",
       " 0.8674  0.1577  0.7474  0.2504  0.8482  0.3899  0.6690  0.7134  0.1104  0.2184\n",
       " 0.0784  0.5420  0.1005  0.6216  0.4370  0.5870  0.0841  0.4006  0.5753  0.8581\n",
       " 0.6206  0.7054  0.0785  0.9080  0.4008  0.9209  0.1367  0.0665  0.5672  0.7953\n",
       " 0.9446  0.0566  0.2933  0.0437  0.0425  0.9016  0.0604  0.0700  0.0643  0.7262\n",
       " 0.3033  0.9690  0.8544  0.2181  0.8093  0.1576  0.5164  0.2931  0.1941  0.2853\n",
       " 0.2690  0.8041  0.7270  0.9547  0.1124  0.1537  0.3736  0.4282  0.9397  0.4530\n",
       " 0.3632  0.0222  0.4347  0.1722  0.1280  0.0868  0.7585  0.7953  0.6076  0.6295\n",
       " 0.4410  0.0191  0.9818  0.1056  0.4630  0.5742  0.8165  0.1988  0.0128  0.6689\n",
       " 0.6437  0.5915  0.1632  0.9688  0.6984  0.3353  0.8424  0.9192  0.5314  0.1939\n",
       " 0.9810  0.3306  0.5099  0.4772  0.5288  0.5918  0.4175  0.4151  0.0358  0.2649\n",
       " 0.2738  0.2865  0.8586  0.0692  0.0998  0.0254  0.5977  0.4856  0.8321  0.0512\n",
       " 0.5404  0.7140  0.0965  0.1410  0.4781  0.5115  0.7320  0.4542  0.4245  0.0856\n",
       " 0.1897  0.9269  0.4584  0.5606  0.5756  0.8908  0.4594  0.1684  0.4270  0.5386\n",
       " 0.9537  0.8813  0.7256  0.3794  0.0215  0.5250  0.4075  0.3895  0.9941  0.2503\n",
       " 0.0643  0.8135  0.1579  0.1024  0.5700  0.9229  0.8546  0.4236  0.4714  0.1822\n",
       " 0.3384  0.7574  0.9209  0.6478  0.7567  0.8859  0.4877  0.9711  0.4101  0.4973\n",
       " 0.2575  0.5324  0.7633  0.1949  0.9143  0.5283  0.0690  0.1458  0.8802  0.5187\n",
       " 0.8499  0.5717  0.7714  0.0012  0.3317  0.2404  0.6980  0.7514  0.5909  0.6147\n",
       " 0.3973  0.3524  0.8384  0.3396  0.1615  0.4017  0.6776  0.2129  0.7049  0.6060\n",
       " 0.8852  0.4469  0.6678  0.7077  0.2494  0.4769  0.4940  0.8387  0.7428  0.8128\n",
       "[torch.DoubleTensor of size 100x10]\n",
       "\n"
      ]
     },
     "execution_count": 8,
     "metadata": {},
     "output_type": "execute_result"
    }
   ],
   "source": [
    "A = torch.rand(100, 10)\n",
    "print(A)"
   ]
  },
  {
   "cell_type": "code",
   "execution_count": 9,
   "metadata": {},
   "outputs": [
    {
     "data": {
      "text/plain": [
       "   1.0000\n",
       "  25.7500\n",
       "  50.5000\n",
       "  75.2500\n",
       " 100.0000\n",
       "[torch.DoubleTensor of size 5]\n",
       "\n"
      ]
     },
     "execution_count": 9,
     "metadata": {},
     "output_type": "execute_result"
    }
   ],
   "source": [
    "a = torch.linspace(1, 100, 5)\n",
    "print(a)"
   ]
  },
  {
   "cell_type": "code",
   "execution_count": 10,
   "metadata": {},
   "outputs": [
    {
     "data": {
      "text/plain": [
       " 0.8841  0.4738  0.0861  0.2557  0.0082  0.0582  0.6333  0.2506  0.1695  0.0912\n",
       " 0.3452  0.6125  0.2234  0.2287  0.6724  0.0729  0.1074  0.9526  0.1234  0.6054\n",
       " 0.9190  0.6177  0.0077  0.1198  0.1471  0.8651  0.0903  0.3808  0.1161  0.1066\n",
       " 0.4263  0.4576  0.1149  0.3741  0.1533  0.9461  0.3122  0.6073  0.7149  0.6568\n",
       " 0.8852  0.4469  0.6678  0.7077  0.2494  0.4769  0.4940  0.8387  0.7428  0.8128\n",
       "[torch.DoubleTensor of size 5x10]\n",
       "\n"
      ]
     },
     "execution_count": 10,
     "metadata": {},
     "output_type": "execute_result"
    }
   ],
   "source": [
    "A:index(1, a:long())"
   ]
  },
  {
   "cell_type": "code",
   "execution_count": 16,
   "metadata": {
    "collapsed": true
   },
   "outputs": [],
   "source": [
    "b = torch.rand(1, 12)"
   ]
  },
  {
   "cell_type": "code",
   "execution_count": 19,
   "metadata": {},
   "outputs": [
    {
     "data": {
      "text/plain": [
       "Columns 1 to 10\n",
       " 0.1172  0.6897  0.9591  0.9289  0.7430  0.0971  0.0958  0.0941  0.8772  0.8911\n",
       " 0.1172  0.6897  0.9591  0.9289  0.7430  0.0971  0.0958  0.0941  0.8772  0.8911\n",
       " 0.1172  0.6897  0.9591  0.9289  0.7430  0.0971  0.0958  0.0941  0.8772  0.8911\n",
       "\n",
       "Columns 11 to 12\n",
       " 0.6595  0.8367\n",
       " 0.6595  0.8367\n",
       " 0.6595  0.8367\n",
       "[torch.DoubleTensor of size 3x12]\n",
       "\n"
      ]
     },
     "execution_count": 19,
     "metadata": {},
     "output_type": "execute_result"
    }
   ],
   "source": [
    "torch.cat({b,b,b}, 1)"
   ]
  },
  {
   "cell_type": "code",
   "execution_count": 12,
   "metadata": {},
   "outputs": [
    {
     "data": {
      "text/plain": [
       " 0.8841  0.4738  0.0861  0.2557  0.0082  0.0582  0.6333  0.2506  0.1695  0.0912\n",
       " 0.5049  0.3971  0.6332  0.4713  0.3264  0.2776  0.9253  0.1185  0.4333  0.6139\n",
       " 0.3345  0.3718  0.1403  0.1151  0.2549  0.7925  0.6235  0.9596  0.9413  0.3589\n",
       " 0.0051  0.7848  0.4243  0.8755  0.5142  0.4337  0.6326  0.1919  0.9160  0.3344\n",
       "[torch.DoubleTensor of size 4x10]\n",
       "\n"
      ]
     },
     "execution_count": 12,
     "metadata": {},
     "output_type": "execute_result"
    }
   ],
   "source": [
    "A[{{1,4},{}}]"
   ]
  },
  {
   "cell_type": "code",
   "execution_count": null,
   "metadata": {
    "collapsed": true
   },
   "outputs": [],
   "source": []
  }
 ],
 "metadata": {
  "kernelspec": {
   "display_name": "iTorch",
   "language": "lua",
   "name": "itorch"
  },
  "language_info": {
   "name": "lua",
   "version": "5.1"
  }
 },
 "nbformat": 4,
 "nbformat_minor": 2
}
